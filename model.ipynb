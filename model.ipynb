{
  "nbformat": 4,
  "nbformat_minor": 0,
  "metadata": {
    "colab": {
      "provenance": [],
      "include_colab_link": true
    },
    "kernelspec": {
      "name": "python3",
      "display_name": "Python 3"
    },
    "language_info": {
      "name": "python"
    }
  },
  "cells": [
    {
      "cell_type": "markdown",
      "metadata": {
        "id": "view-in-github",
        "colab_type": "text"
      },
      "source": [
        "<a href=\"https://colab.research.google.com/github/gityag/music-transcription/blob/main/model.ipynb\" target=\"_parent\"><img src=\"https://colab.research.google.com/assets/colab-badge.svg\" alt=\"Open In Colab\"/></a>"
      ]
    },
    {
      "cell_type": "code",
      "execution_count": 1,
      "metadata": {
        "id": "RkRJ4dIPEf_w"
      },
      "outputs": [],
      "source": [
        "import tensorflow as tf\n",
        "from tensorflow.keras import Sequential\n",
        "from tensorflow.keras import Input\n",
        "import numpy as np\n",
        "import pandas as pd\n",
        "import os\n",
        "import keras\n",
        "import pickle\n",
        "from keras.layers import Conv2D, MaxPool2D, add,Dropout,Dense,Flatten\n",
        "from tensorflow.keras.layers import BatchNormalization\n",
        "from keras.optimizers import Adam\n",
        "from keras.callbacks import EarlyStopping, Callback\n",
        "\n",
        "import sklearn\n",
        "from sklearn.metrics import precision_recall_fscore_support\n",
        "from numpy import save"
      ]
    },
    {
      "cell_type": "code",
      "source": [
        "from google.colab import drive\n",
        "drive.mount('/content/gdrive', force_remount=True)"
      ],
      "metadata": {
        "colab": {
          "base_uri": "https://localhost:8080/"
        },
        "id": "EAFi6sw_FgWi",
        "outputId": "fabba693-cbb8-4149-a593-7cbdf10c3d1a"
      },
      "execution_count": 2,
      "outputs": [
        {
          "output_type": "stream",
          "name": "stdout",
          "text": [
            "Mounted at /content/gdrive\n"
          ]
        }
      ]
    },
    {
      "cell_type": "code",
      "source": [
        "%cd /content/gdrive/MyDrive/kaggle"
      ],
      "metadata": {
        "colab": {
          "base_uri": "https://localhost:8080/"
        },
        "id": "nSSnq0s0HGRB",
        "outputId": "334557b6-4390-4b90-85b1-aba40348c962"
      },
      "execution_count": 3,
      "outputs": [
        {
          "output_type": "stream",
          "name": "stdout",
          "text": [
            "/content/gdrive/.shortcut-targets-by-id/1jFgwCKNtKSeDkWhZHi7du5qr835eaIvE/kaggle\n"
          ]
        }
      ]
    },
    {
      "cell_type": "code",
      "source": [
        "with open('all_scores.pkl', 'rb') as file:\n",
        "    loaded_scores = pickle.load(file)"
      ],
      "metadata": {
        "id": "xJtKzey5IfV6"
      },
      "execution_count": 4,
      "outputs": []
    },
    {
      "cell_type": "code",
      "source": [
        "with open('spectrograms_arrays.pkl', 'rb') as file:\n",
        "    loaded_spect = pickle.load(file)"
      ],
      "metadata": {
        "id": "wG_0vrypE-we"
      },
      "execution_count": 5,
      "outputs": []
    },
    {
      "cell_type": "code",
      "source": [
        "y_scores = np.array(loaded_scores, dtype=object)\n",
        "y_scores.shape"
      ],
      "metadata": {
        "id": "JeBiXrge9MqF",
        "colab": {
          "base_uri": "https://localhost:8080/"
        },
        "outputId": "664ad6af-b12d-4aaf-aa6d-32938cbe62f1"
      },
      "execution_count": 6,
      "outputs": [
        {
          "output_type": "execute_result",
          "data": {
            "text/plain": [
              "(10, 2004, 4)"
            ]
          },
          "metadata": {},
          "execution_count": 6
        }
      ]
    },
    {
      "cell_type": "code",
      "source": [
        "X_spect = np.array(loaded_spect, dtype=object)\n",
        "X_spect.shape"
      ],
      "metadata": {
        "colab": {
          "base_uri": "https://localhost:8080/"
        },
        "id": "ecwzTLoTKwyZ",
        "outputId": "eec09f3d-2642-450d-e78a-0716b7938633"
      },
      "execution_count": 7,
      "outputs": [
        {
          "output_type": "execute_result",
          "data": {
            "text/plain": [
              "(10, 3, 620, 462)"
            ]
          },
          "metadata": {},
          "execution_count": 7
        }
      ]
    },
    {
      "cell_type": "code",
      "source": [],
      "metadata": {
        "id": "4k4uXWToRliM"
      },
      "execution_count": null,
      "outputs": []
    },
    {
      "cell_type": "code",
      "source": [
        "for i, score in enumerate(y_scores):\n",
        "    length_of_list = len(score)\n",
        "    print(f\"Length of list {i + 1}: {length_of_list}\")"
      ],
      "metadata": {
        "colab": {
          "base_uri": "https://localhost:8080/"
        },
        "id": "TRQbjqtkMwq6",
        "outputId": "465e6897-0c17-4a7d-b17b-8b17bd723be0"
      },
      "execution_count": 8,
      "outputs": [
        {
          "output_type": "stream",
          "name": "stdout",
          "text": [
            "Length of list 1: 2004\n",
            "Length of list 2: 2004\n",
            "Length of list 3: 2004\n",
            "Length of list 4: 2004\n",
            "Length of list 5: 2004\n",
            "Length of list 6: 2004\n",
            "Length of list 7: 2004\n",
            "Length of list 8: 2004\n",
            "Length of list 9: 2004\n",
            "Length of list 10: 2004\n"
          ]
        }
      ]
    }
  ]
}