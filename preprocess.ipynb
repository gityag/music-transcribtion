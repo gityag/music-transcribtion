{
  "nbformat": 4,
  "nbformat_minor": 0,
  "metadata": {
    "colab": {
      "provenance": [],
      "authorship_tag": "ABX9TyMNRROI/j/Kjzh7splZZCb2",
      "include_colab_link": true
    },
    "kernelspec": {
      "name": "python3",
      "display_name": "Python 3"
    },
    "language_info": {
      "name": "python"
    }
  },
  "cells": [
    {
      "cell_type": "markdown",
      "metadata": {
        "id": "view-in-github",
        "colab_type": "text"
      },
      "source": [
        "<a href=\"https://colab.research.google.com/github/gityag/music-transcribtion/blob/main/preprocess.ipynb\" target=\"_parent\"><img src=\"https://colab.research.google.com/assets/colab-badge.svg\" alt=\"Open In Colab\"/></a>"
      ]
    },
    {
      "cell_type": "code",
      "execution_count": null,
      "metadata": {
        "colab": {
          "base_uri": "https://localhost:8080/"
        },
        "id": "LHY9mXqcW0IW",
        "outputId": "cf1dfe27-1e49-4f8a-92b7-464e116454fd"
      },
      "outputs": [
        {
          "output_type": "stream",
          "name": "stdout",
          "text": [
            "Reading package lists... Done\n",
            "Building dependency tree... Done\n",
            "Reading state information... Done\n",
            "git is already the newest version (1:2.34.1-1ubuntu1.10).\n",
            "0 upgraded, 0 newly installed, 0 to remove and 19 not upgraded.\n"
          ]
        }
      ],
      "source": [
        "!apt-get install -y git"
      ]
    },
    {
      "cell_type": "code",
      "source": [
        "!pip install kaggle"
      ],
      "metadata": {
        "id": "iNj1IPQLX1eT",
        "colab": {
          "base_uri": "https://localhost:8080/"
        },
        "outputId": "0359b081-3d64-482f-bddf-0aa16b4742cb"
      },
      "execution_count": 1,
      "outputs": [
        {
          "output_type": "stream",
          "name": "stdout",
          "text": [
            "Requirement already satisfied: kaggle in /usr/local/lib/python3.10/dist-packages (1.5.16)\n",
            "Requirement already satisfied: six>=1.10 in /usr/local/lib/python3.10/dist-packages (from kaggle) (1.16.0)\n",
            "Requirement already satisfied: certifi in /usr/local/lib/python3.10/dist-packages (from kaggle) (2023.7.22)\n",
            "Requirement already satisfied: python-dateutil in /usr/local/lib/python3.10/dist-packages (from kaggle) (2.8.2)\n",
            "Requirement already satisfied: requests in /usr/local/lib/python3.10/dist-packages (from kaggle) (2.31.0)\n",
            "Requirement already satisfied: tqdm in /usr/local/lib/python3.10/dist-packages (from kaggle) (4.66.1)\n",
            "Requirement already satisfied: python-slugify in /usr/local/lib/python3.10/dist-packages (from kaggle) (8.0.1)\n",
            "Requirement already satisfied: urllib3 in /usr/local/lib/python3.10/dist-packages (from kaggle) (2.0.7)\n",
            "Requirement already satisfied: bleach in /usr/local/lib/python3.10/dist-packages (from kaggle) (6.1.0)\n",
            "Requirement already satisfied: webencodings in /usr/local/lib/python3.10/dist-packages (from bleach->kaggle) (0.5.1)\n",
            "Requirement already satisfied: text-unidecode>=1.3 in /usr/local/lib/python3.10/dist-packages (from python-slugify->kaggle) (1.3)\n",
            "Requirement already satisfied: charset-normalizer<4,>=2 in /usr/local/lib/python3.10/dist-packages (from requests->kaggle) (3.3.1)\n",
            "Requirement already satisfied: idna<4,>=2.5 in /usr/local/lib/python3.10/dist-packages (from requests->kaggle) (3.4)\n"
          ]
        }
      ]
    },
    {
      "cell_type": "code",
      "source": [
        "from google.colab import drive\n",
        "drive.mount('/content/gdrive')"
      ],
      "metadata": {
        "colab": {
          "base_uri": "https://localhost:8080/"
        },
        "id": "mTC_JQUnDHdQ",
        "outputId": "26e21556-1f84-4ac1-ba96-cdf8aacc0636"
      },
      "execution_count": 4,
      "outputs": [
        {
          "output_type": "stream",
          "name": "stdout",
          "text": [
            "Mounted at /content/gdrive\n"
          ]
        }
      ]
    },
    {
      "cell_type": "code",
      "source": [
        "import os\n",
        "os.environ['KAGGLE_CONFIG_DIR'] = \"/content/gdrive/My Drive/kaggle\""
      ],
      "metadata": {
        "id": "jK5xx2GXIDhg"
      },
      "execution_count": 5,
      "outputs": []
    },
    {
      "cell_type": "code",
      "source": [
        "%cd /content/gdrive/My Drive/kaggle"
      ],
      "metadata": {
        "colab": {
          "base_uri": "https://localhost:8080/"
        },
        "id": "SWDUbjwZIine",
        "outputId": "6bbf7de5-1bfd-41a7-ac0e-b98523a1d12f"
      },
      "execution_count": 7,
      "outputs": [
        {
          "output_type": "stream",
          "name": "stdout",
          "text": [
            "/content/gdrive/My Drive/kaggle\n"
          ]
        }
      ]
    },
    {
      "cell_type": "code",
      "source": [
        "!kaggle datasets download -d imsparsh/musicnet-dataset"
      ],
      "metadata": {
        "colab": {
          "base_uri": "https://localhost:8080/"
        },
        "id": "L8E_QmGBIs_W",
        "outputId": "e395ca05-ad77-497e-d2e9-ed1fcb4018f1"
      },
      "execution_count": 8,
      "outputs": [
        {
          "output_type": "stream",
          "name": "stdout",
          "text": [
            "Downloading musicnet-dataset.zip to /content/gdrive/My Drive/kaggle\n",
            "100% 21.5G/21.5G [05:14<00:00, 51.9MB/s]\n",
            "100% 21.5G/21.5G [05:14<00:00, 73.5MB/s]\n"
          ]
        }
      ]
    },
    {
      "cell_type": "code",
      "source": [
        "#unzipping the zip files and deleting the zip files\n",
        "!unzip \\*.zip  && rm *.zip"
      ],
      "metadata": {
        "colab": {
          "base_uri": "https://localhost:8080/"
        },
        "id": "joiIxfCJKXXT",
        "outputId": "6571ae20-303b-4aff-c3de-42c83163d9bd"
      },
      "execution_count": null,
      "outputs": [
        {
          "output_type": "stream",
          "name": "stdout",
          "text": [
            "Archive:  musicnet-dataset.zip\n",
            "  inflating: musicnet.npz            \n",
            "  inflating: musicnet/musicnet/test_data/1759.wav  \n",
            "  inflating: musicnet/musicnet/test_data/1819.wav  \n",
            "  inflating: musicnet/musicnet/test_data/2106.wav  \n",
            "  inflating: musicnet/musicnet/test_data/2191.wav  \n",
            "  inflating: musicnet/musicnet/test_data/2298.wav  \n",
            "  inflating: musicnet/musicnet/test_data/2303.wav  \n",
            "  inflating: musicnet/musicnet/test_data/2382.wav  \n",
            "  inflating: musicnet/musicnet/test_data/2416.wav  \n",
            "  inflating: musicnet/musicnet/test_data/2556.wav  \n",
            "  inflating: musicnet/musicnet/test_data/2628.wav  \n",
            "  inflating: musicnet/musicnet/test_labels/1759.csv  \n",
            "  inflating: musicnet/musicnet/test_labels/1819.csv  \n",
            "  inflating: musicnet/musicnet/test_labels/2106.csv  \n",
            "  inflating: musicnet/musicnet/test_labels/2191.csv  \n",
            "  inflating: musicnet/musicnet/test_labels/2298.csv  \n",
            "  inflating: musicnet/musicnet/test_labels/2303.csv  \n",
            "  inflating: musicnet/musicnet/test_labels/2382.csv  \n",
            "  inflating: musicnet/musicnet/test_labels/2416.csv  \n",
            "  inflating: musicnet/musicnet/test_labels/2556.csv  \n",
            "  inflating: musicnet/musicnet/test_labels/2628.csv  \n",
            "  inflating: musicnet/musicnet/train_data/1727.wav  \n",
            "  inflating: musicnet/musicnet/train_data/1728.wav  \n",
            "  inflating: musicnet/musicnet/train_data/1729.wav  \n",
            "  inflating: musicnet/musicnet/train_data/1730.wav  \n",
            "  inflating: musicnet/musicnet/train_data/1733.wav  \n",
            "  inflating: musicnet/musicnet/train_data/1734.wav  \n",
            "  inflating: musicnet/musicnet/train_data/1735.wav  \n",
            "  inflating: musicnet/musicnet/train_data/1739.wav  \n",
            "  inflating: musicnet/musicnet/train_data/1742.wav  \n",
            "  inflating: musicnet/musicnet/train_data/1749.wav  \n",
            "  inflating: musicnet/musicnet/train_data/1750.wav  \n",
            "  inflating: musicnet/musicnet/train_data/1751.wav  \n",
            "  inflating: musicnet/musicnet/train_data/1752.wav  \n",
            "  inflating: musicnet/musicnet/train_data/1755.wav  \n",
            "  inflating: musicnet/musicnet/train_data/1756.wav  \n",
            "  inflating: musicnet/musicnet/train_data/1757.wav  \n",
            "  inflating: musicnet/musicnet/train_data/1758.wav  \n",
            "  inflating: musicnet/musicnet/train_data/1760.wav  \n",
            "  inflating: musicnet/musicnet/train_data/1763.wav  \n",
            "  inflating: musicnet/musicnet/train_data/1764.wav  \n",
            "  inflating: musicnet/musicnet/train_data/1765.wav  \n",
            "  inflating: musicnet/musicnet/train_data/1766.wav  \n",
            "  inflating: musicnet/musicnet/train_data/1768.wav  \n",
            "  inflating: musicnet/musicnet/train_data/1771.wav  \n",
            "  inflating: musicnet/musicnet/train_data/1772.wav  "
          ]
        }
      ]
    }
  ]
}